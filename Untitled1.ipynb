{
  "nbformat": 4,
  "nbformat_minor": 0,
  "metadata": {
    "colab": {
      "name": "Untitled1.ipynb",
      "provenance": [],
      "authorship_tag": "ABX9TyONSaLlED755YC1r06NqKdI",
      "include_colab_link": true
    },
    "kernelspec": {
      "name": "python3",
      "display_name": "Python 3"
    },
    "language_info": {
      "name": "python"
    }
  },
  "cells": [
    {
      "cell_type": "markdown",
      "metadata": {
        "id": "view-in-github",
        "colab_type": "text"
      },
      "source": [
        "<a href=\"https://colab.research.google.com/github/DiclaVasquez/Laboratorio-1/blob/main/Untitled1.ipynb\" target=\"_parent\"><img src=\"https://colab.research.google.com/assets/colab-badge.svg\" alt=\"Open In Colab\"/></a>"
      ]
    },
    {
      "cell_type": "code",
      "execution_count": null,
      "metadata": {
        "id": "eab_gtHhUzmy"
      },
      "outputs": [],
      "source": [
        ""
      ]
    },
    {
      "cell_type": "markdown",
      "source": [
        "# **Laboratorio # 1**"
      ],
      "metadata": {
        "id": "kItt8KTrT--1"
      }
    },
    {
      "cell_type": "code",
      "source": [
        ""
      ],
      "metadata": {
        "id": "5mx5KYh1T93b"
      },
      "execution_count": null,
      "outputs": []
    },
    {
      "cell_type": "markdown",
      "source": [
        "**Ejercicio 1**\n"
      ],
      "metadata": {
        "id": "-J2V-AF6UNLn"
      }
    },
    {
      "cell_type": "code",
      "source": [
        "\n",
        "segundos = int(input('Ingrese la cantidad de segundos:'))\n",
        "\n",
        "minutos = segundos // 60 # pase los segundos a minutos\n",
        "segundos_rest = segundos % 60\n",
        "horas= minutos // 60\n",
        "minutos_rest =minutos % 60\n",
        "\n",
        "print('horas: {} - minutos: {} - segundos:{}'.format (horas,minutos_rest,segundos_rest, segundos))\n",
        "\n"
      ],
      "metadata": {
        "colab": {
          "base_uri": "https://localhost:8080/"
        },
        "id": "TrHI0sBSUQo0",
        "outputId": "b2a5deb0-37ec-49b3-8e86-65a7191fd50d"
      },
      "execution_count": 7,
      "outputs": [
        {
          "output_type": "stream",
          "name": "stdout",
          "text": [
            "Ingrese la cantidad de segundos:5871\n",
            "horas: 1 - minutos: 37 - segundos:51\n"
          ]
        }
      ]
    },
    {
      "cell_type": "code",
      "source": [
        ""
      ],
      "metadata": {
        "id": "sRVoe9L4ZJN9"
      },
      "execution_count": null,
      "outputs": []
    },
    {
      "cell_type": "markdown",
      "source": [
        "Ejercicio 2"
      ],
      "metadata": {
        "id": "Rv9IBQUSTq82"
      }
    },
    {
      "cell_type": "code",
      "source": [
        "\n",
        "x = int(input('Ingrese la nota a calificar:'))\n",
        "if x < 50:\n",
        "    print(\"Insuficiente\")\n",
        "elif x < 70:\n",
        "    print(\"Regular\")\n",
        "elif x < 90:\n",
        "    print(\"BIEN\")\n",
        "elif x < 100:\n",
        "    print(\"Sobresaliente\")\n",
        "else:\n",
        "    print(\"nota fuera de rango\")"
      ],
      "metadata": {
        "colab": {
          "base_uri": "https://localhost:8080/"
        },
        "id": "r4A8FMaqpfmm",
        "outputId": "dd4ca14f-1045-49ea-fb5b-17d83b74f91e"
      },
      "execution_count": 28,
      "outputs": [
        {
          "output_type": "stream",
          "name": "stdout",
          "text": [
            "Ingrese la nota a calificar:69\n",
            "Regular\n"
          ]
        }
      ]
    },
    {
      "cell_type": "markdown",
      "source": [
        "Ejercicio 3"
      ],
      "metadata": {
        "id": "aUV_397h05Ls"
      }
    },
    {
      "cell_type": "code",
      "source": [
        "x = int(input('Ingrese el primer número:'))\n",
        "z = int(input('Ingrese el segundo número:'))\n",
        "if x > z:\n",
        "  for n in range(x,z):\n",
        "    print(x + z)\n",
        "else:\n",
        "    print(\"Insuficiente\")"
      ],
      "metadata": {
        "colab": {
          "base_uri": "https://localhost:8080/"
        },
        "id": "P-NOWT5i07J7",
        "outputId": "944bcced-b075-47ed-86f3-3658f1500208"
      },
      "execution_count": 36,
      "outputs": [
        {
          "name": "stdout",
          "output_type": "stream",
          "text": [
            "Ingrese el primer número:5\n",
            "Ingrese el segundo número:2\n"
          ]
        }
      ]
    },
    {
      "cell_type": "markdown",
      "source": [
        "Ejercicio 4"
      ],
      "metadata": {
        "id": "ti-Oeq4CHV7I"
      }
    },
    {
      "cell_type": "code",
      "source": [
        "n = int(input('Ingrese el primer número:'))\n",
        "if n > 0:\n",
        "  x = 1\n",
        "  f = 1\n",
        "  while x <= n:\n",
        "    f = f* x\n",
        "    x +=1\n",
        "    print(\"el Factoriale\",n,\" es:\",f)\n",
        "else:\n",
        "  print(\"no se puede calcular el factorial, ingrese un numero mayor a 0\")\n",
        "\n",
        "\n"
      ],
      "metadata": {
        "colab": {
          "base_uri": "https://localhost:8080/"
        },
        "id": "8kD-taO_HYS0",
        "outputId": "932d3d01-d32e-4b1d-ea73-b97ce9f1f3ff"
      },
      "execution_count": 45,
      "outputs": [
        {
          "output_type": "stream",
          "name": "stdout",
          "text": [
            "Ingrese el primer número:0\n",
            "no se puede calcular el factorial, ingrese un numero mayor a 0\n"
          ]
        }
      ]
    },
    {
      "cell_type": "markdown",
      "source": [
        "Ejercicio 5"
      ],
      "metadata": {
        "id": "fswB85gjOpdU"
      }
    },
    {
      "cell_type": "code",
      "source": [
        "import datetime\n",
        " \n",
        "from datetime import date\n",
        "dia = int(input('Ingrese la fecha del día de su nacimiento:'))\n",
        "mes = int(input('Ingrese la fecha del mes de su nacimiento:'))\n",
        "año = int(input('Ingrese el fecha del año de su nacimiento:'))\n",
        "\n",
        "d = date.today()\n",
        "hoy = datetime.date.today()\n",
        "print(hoy.strftime('%d/%m/%y'))\n",
        "\n",
        "edad = (d.year) - (año)\n",
        "print(+edad)"
      ],
      "metadata": {
        "colab": {
          "base_uri": "https://localhost:8080/"
        },
        "id": "nPwxu9gEOrBv",
        "outputId": "e98bae17-d44f-4fd8-c85b-c2651f501478"
      },
      "execution_count": 6,
      "outputs": [
        {
          "output_type": "stream",
          "name": "stdout",
          "text": [
            "Ingrese la fecha del día de su nacimiento:3\n",
            "Ingrese la fecha del mes de su nacimiento:11\n",
            "Ingrese el fecha del año de su nacimiento:1988\n",
            "31/03/22\n",
            "34\n"
          ]
        }
      ]
    },
    {
      "cell_type": "markdown",
      "source": [
        "Ejercicio 6"
      ],
      "metadata": {
        "id": "6Zfr2mntUxOq"
      }
    },
    {
      "cell_type": "code",
      "source": [
        "caracter = \"*\"\n",
        "k=4\n",
        "strTemp = \"\"\n",
        "for i in range(1,k,1):\n",
        "  s=\"\"\n",
        "  for j in range(0,k,1):\n",
        "    s= s + caracter\n",
        "    print(s)\n",
        "    \n"
      ],
      "metadata": {
        "colab": {
          "base_uri": "https://localhost:8080/"
        },
        "id": "G1YMMaSzUzyW",
        "outputId": "06d3d473-bf26-4fe8-b901-4da7453e81a8"
      },
      "execution_count": 46,
      "outputs": [
        {
          "output_type": "stream",
          "name": "stdout",
          "text": [
            "*\n",
            "**\n",
            "***\n",
            "****\n",
            "*\n",
            "**\n",
            "***\n",
            "****\n",
            "*\n",
            "**\n",
            "***\n",
            "****\n"
          ]
        }
      ]
    }
  ]
}